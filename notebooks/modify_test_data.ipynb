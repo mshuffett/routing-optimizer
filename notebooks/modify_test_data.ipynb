{
 "cells": [
  {
   "cell_type": "code",
   "execution_count": 1,
   "metadata": {},
   "outputs": [],
   "source": [
    "import json\n",
    "\n",
    "import pendulum\n",
    "\n",
    "from phocus.utils.constants import DATA_PATH"
   ]
  },
  {
   "cell_type": "code",
   "execution_count": 2,
   "metadata": {},
   "outputs": [],
   "source": [
    "test_data = DATA_PATH / 'test_data'"
   ]
  },
  {
   "cell_type": "code",
   "execution_count": 7,
   "metadata": {},
   "outputs": [],
   "source": [
    "def convert_date_time_to_epoch_millis(dt: pendulum.DateTime) -> int:\n",
    "    return int(dt.timestamp() * 1000)"
   ]
  },
  {
   "cell_type": "code",
   "execution_count": 16,
   "metadata": {},
   "outputs": [],
   "source": [
    "def modify_test_file(path):\n",
    "    test_json = json.load(path.open())\n",
    "    start_date_time = test_json['startDateTime']\n",
    "    work_minutes = test_json['workTimeMinutes']\n",
    "    days = test_json['numDays']\n",
    "    \n",
    "    work_periods = []\n",
    "    current_date_time = pendulum.parse(start_date_time)\n",
    "    for x in range(days):\n",
    "        work_periods.append({\n",
    "            'start': int(current_date_time.timestamp() * 1000),\n",
    "            'end': int(current_date_time.add(minutes=work_minutes).timestamp() * 1000)})\n",
    "        current_date_time = current_date_time.add(days=1)\n",
    "    test_json['workPeriods'] = work_periods\n",
    "    \n",
    "    del test_json['numDays']\n",
    "    del test_json['startDateTime']\n",
    "    del test_json['workTimeMinutes']\n",
    "    \n",
    "    for l in test_json['locations']:\n",
    "        for open_times in l['openTimes']:\n",
    "            open_times['start'] = convert_date_time_to_epoch_millis(pendulum.parse(open_times['start']))\n",
    "            open_times['end'] = convert_date_time_to_epoch_millis(pendulum.parse(open_times['end']))\n",
    "        if 'appointment' in l:\n",
    "            l['appointment']['start'] = convert_date_time_to_epoch_millis(pendulum.parse(l['appointment']['start']))\n",
    "            l['appointment']['end'] = convert_date_time_to_epoch_millis(pendulum.parse(l['appointment']['end']))\n",
    "    \n",
    "    json.dump(test_json, path.open('w'), indent='  ')\n",
    "    return test_json"
   ]
  },
  {
   "cell_type": "code",
   "execution_count": 13,
   "metadata": {},
   "outputs": [],
   "source": [
    "for test_path in test_data.iterdir():\n",
    "    try:\n",
    "        modify_test_file(test_path)\n",
    "    except Exception:\n",
    "        print(test_path)"
   ]
  },
  {
   "cell_type": "code",
   "execution_count": 4,
   "metadata": {},
   "outputs": [],
   "source": [
    "path = test_data / 'api_node_visit_time.json'"
   ]
  },
  {
   "cell_type": "code",
   "execution_count": 5,
   "metadata": {},
   "outputs": [],
   "source": [
    "name_suffixes, durations = ['10', '15', '30'], [pendulum.Duration(minutes=10), pendulum.Duration(minutes=15), pendulum.Duration(minutes=30)]"
   ]
  },
  {
   "cell_type": "code",
   "execution_count": 8,
   "metadata": {},
   "outputs": [],
   "source": [
    "import itertools\n",
    "\n",
    "name_duration_cycles = zip(itertools.cycle(name_suffixes), itertools.cycle(durations))\n",
    "j = json.load(path.open())\n",
    "for location in j['locations']:\n",
    "    name, duration = next(name_duration_cycles)\n",
    "    location['name'] += '-%s' % name\n",
    "    location['visitTimeSeconds'] = duration.in_seconds()"
   ]
  },
  {
   "cell_type": "code",
   "execution_count": 13,
   "metadata": {},
   "outputs": [],
   "source": [
    "json.dump(j, path.open('w'))"
   ]
  },
  {
   "cell_type": "code",
   "execution_count": null,
   "metadata": {},
   "outputs": [],
   "source": []
  },
  {
   "cell_type": "code",
   "execution_count": 22,
   "metadata": {},
   "outputs": [],
   "source": [
    "for x in range(3):\n",
    "    start += 24 * 60 * 60 * 1000\n",
    "    end += 24 * 60 * 60 * 1000\n",
    "    simple_json['workPeriods'].append({'start': start, 'end': end})"
   ]
  },
  {
   "cell_type": "code",
   "execution_count": 24,
   "metadata": {},
   "outputs": [
    {
     "data": {
      "text/plain": [
       "'[{\"start\": 1514797200000, \"end\": 1514826000000}, {\"start\": 1514883600000, \"end\": 1514912400000}, {\"start\": 1514970000000, \"end\": 1514998800000}, {\"start\": 1515056400000, \"end\": 1515085200000}]'"
      ]
     },
     "execution_count": 24,
     "metadata": {},
     "output_type": "execute_result"
    }
   ],
   "source": [
    "json.dumps(simple_json['workPeriods'])"
   ]
  },
  {
   "cell_type": "code",
   "execution_count": null,
   "metadata": {},
   "outputs": [],
   "source": [
    "def convert_work_periods_to_d"
   ]
  }
 ],
 "metadata": {
  "kernelspec": {
   "display_name": "Python 3",
   "language": "python",
   "name": "python3"
  },
  "language_info": {
   "codemirror_mode": {
    "name": "ipython",
    "version": 3
   },
   "file_extension": ".py",
   "mimetype": "text/x-python",
   "name": "python",
   "nbconvert_exporter": "python",
   "pygments_lexer": "ipython3",
   "version": "3.6.4"
  }
 },
 "nbformat": 4,
 "nbformat_minor": 1
}
