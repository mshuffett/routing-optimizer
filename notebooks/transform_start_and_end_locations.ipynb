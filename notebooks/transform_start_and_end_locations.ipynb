{
 "cells": [
  {
   "cell_type": "code",
   "execution_count": 2,
   "metadata": {},
   "outputs": [],
   "source": [
    "import json\n",
    "\n",
    "import pendulum\n",
    "\n",
    "from phocus.utils.constants import DATA_PATH"
   ]
  },
  {
   "cell_type": "code",
   "execution_count": 3,
   "metadata": {},
   "outputs": [],
   "source": [
    "test_data = DATA_PATH / 'test_data'"
   ]
  },
  {
   "cell_type": "code",
   "execution_count": 29,
   "metadata": {},
   "outputs": [],
   "source": [
    "def modify_test_file(path):\n",
    "    with path.open() as f:\n",
    "        test_json = json.load(f)\n",
    "    \n",
    "    start = test_json['startLocation']\n",
    "    test_json['locations'].append(start)\n",
    "    start_id = start['id']\n",
    "    del test_json['startLocation']\n",
    "\n",
    "    for wp in test_json['workPeriods']:\n",
    "        wp['startLocation'] = start_id\n",
    "        wp['endLocation'] = start_id\n",
    "\n",
    "    with path.open('w') as f:\n",
    "        json.dump(test_json, f, indent='  ')\n",
    "        return test_json"
   ]
  },
  {
   "cell_type": "code",
   "execution_count": 33,
   "metadata": {},
   "outputs": [],
   "source": [
    "test_paths = list(test_data.iterdir())"
   ]
  },
  {
   "cell_type": "code",
   "execution_count": 34,
   "metadata": {},
   "outputs": [],
   "source": [
    "completed = set()"
   ]
  },
  {
   "cell_type": "code",
   "execution_count": 35,
   "metadata": {},
   "outputs": [],
   "source": [
    "for p in test_paths:\n",
    "    if p in completed or p.is_dir():\n",
    "        continue\n",
    "    modify_test_file(p)\n",
    "    completed.add(p)"
   ]
  },
  {
   "cell_type": "code",
   "execution_count": 37,
   "metadata": {},
   "outputs": [],
   "source": [
    "from phocus.utils import bootstrap_project"
   ]
  },
  {
   "cell_type": "code",
   "execution_count": 38,
   "metadata": {},
   "outputs": [],
   "source": [
    "bootstrap_project()"
   ]
  },
  {
   "cell_type": "code",
   "execution_count": null,
   "metadata": {},
   "outputs": [],
   "source": []
  }
 ],
 "metadata": {
  "kernelspec": {
   "display_name": "Python 3",
   "language": "python",
   "name": "python3"
  },
  "language_info": {
   "codemirror_mode": {
    "name": "ipython",
    "version": 3
   },
   "file_extension": ".py",
   "mimetype": "text/x-python",
   "name": "python",
   "nbconvert_exporter": "python",
   "pygments_lexer": "ipython3",
   "version": "3.6.4"
  }
 },
 "nbformat": 4,
 "nbformat_minor": 1
}
